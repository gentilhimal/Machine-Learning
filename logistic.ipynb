{
 "cells": [
  {
   "cell_type": "code",
   "execution_count": 128,
   "metadata": {},
   "outputs": [
    {
     "data": {
      "text/html": [
       "<div>\n",
       "<style scoped>\n",
       "    .dataframe tbody tr th:only-of-type {\n",
       "        vertical-align: middle;\n",
       "    }\n",
       "\n",
       "    .dataframe tbody tr th {\n",
       "        vertical-align: top;\n",
       "    }\n",
       "\n",
       "    .dataframe thead th {\n",
       "        text-align: right;\n",
       "    }\n",
       "</style>\n",
       "<table border=\"1\" class=\"dataframe\">\n",
       "  <thead>\n",
       "    <tr style=\"text-align: right;\">\n",
       "      <th></th>\n",
       "      <th>x1</th>\n",
       "      <th>x2</th>\n",
       "      <th>y</th>\n",
       "    </tr>\n",
       "  </thead>\n",
       "  <tbody>\n",
       "    <tr>\n",
       "      <td>0</td>\n",
       "      <td>x1</td>\n",
       "      <td>x2</td>\n",
       "      <td>y</td>\n",
       "    </tr>\n",
       "    <tr>\n",
       "      <td>1</td>\n",
       "      <td>4.5192</td>\n",
       "      <td>2.6487</td>\n",
       "      <td>1.0</td>\n",
       "    </tr>\n",
       "    <tr>\n",
       "      <td>2</td>\n",
       "      <td>2.4443</td>\n",
       "      <td>1.5438</td>\n",
       "      <td>1.0</td>\n",
       "    </tr>\n",
       "    <tr>\n",
       "      <td>3</td>\n",
       "      <td>4.2409</td>\n",
       "      <td>1.899</td>\n",
       "      <td>1.0</td>\n",
       "    </tr>\n",
       "    <tr>\n",
       "      <td>4</td>\n",
       "      <td>5.8097</td>\n",
       "      <td>2.4711</td>\n",
       "      <td>1.0</td>\n",
       "    </tr>\n",
       "  </tbody>\n",
       "</table>\n",
       "</div>"
      ],
      "text/plain": [
       "       x1      x2    y\n",
       "0      x1      x2    y\n",
       "1  4.5192  2.6487  1.0\n",
       "2  2.4443  1.5438  1.0\n",
       "3  4.2409   1.899  1.0\n",
       "4  5.8097  2.4711  1.0"
      ]
     },
     "execution_count": 128,
     "metadata": {},
     "output_type": "execute_result"
    }
   ],
   "source": [
    "#implementation of logistic regression\n",
    "from matplotlib import pyplot as plt\n",
    "import numpy as np\n",
    "from numpy import genfromtxt\n",
    "import pandas as pd\n",
    "#reading data from csv file \n",
    "headers = ['x1','x2','y']\n",
    "data = pd.read_csv('Logisticdataset.csv',sep=',',names=headers)\n",
    "data.head()\n"
   ]
  },
  {
   "cell_type": "code",
   "execution_count": 129,
   "metadata": {},
   "outputs": [],
   "source": [
    "#loading the data into respective array\n",
    "x1 = genfromtxt('Logisticdataset.csv',delimiter=',',names=True,usecols=('x1'))\n",
    "x1=np.array(x1,dtype=float)\n",
    "x2 = genfromtxt('Logisticdataset.csv',delimiter=',',names=True,usecols=('x2'))\n",
    "x2=np.array(x2,dtype=float)\n",
    "y =  genfromtxt('Logisticdataset.csv',delimiter=',',names=True,usecols=('y'))\n",
    "y=np.array(y,dtype=bool)"
   ]
  },
  {
   "cell_type": "code",
   "execution_count": 130,
   "metadata": {},
   "outputs": [
    {
     "data": {
      "image/png": "[encoded data removed]",
      "text/plain": [
       "<Figure size 432x288 with 1 Axes>"
      ]
     },
     "metadata": {
      "needs_background": "light"
     },
     "output_type": "display_data"
    },
    {
     "data": {
      "image/png": "[encoded data removed]",
      "text/plain": [
       "<Figure size 432x288 with 1 Axes>"
      ]
     },
     "metadata": {
      "needs_background": "light"
     },
     "output_type": "display_data"
    }
   ],
   "source": [
    "#plotting the data\n",
    "plt.scatter(x1,y)\n",
    "plt.title('x1 wrt to y')\n",
    "plt.ylabel('y')\n",
    "plt.xlabel('x1')\n",
    "plt.show()\n",
    "plt.scatter(x2,y)\n",
    "plt.title('x2 wrt to y')\n",
    "plt.ylabel('y')\n",
    "plt.xlabel('x2')\n",
    "plt.show()"
   ]
  },
  {
   "cell_type": "code",
   "execution_count": 131,
   "metadata": {},
   "outputs": [
    {
     "data": {
      "image/png": "[encoded data removed]",
      "text/plain": [
       "<Figure size 432x288 with 1 Axes>"
      ]
     },
     "metadata": {
      "needs_background": "light"
     },
     "output_type": "display_data"
    }
   ],
   "source": [
    "x11=x1[y==1]\n",
    "x21=x2[y==1]\n",
    "x10=x1[y==0]\n",
    "x20=x2[y==0]\n",
    "fig=plt.figure()\n",
    "ax = fig.add_axes([0,0,1,1])\n",
    "ax.scatter(x10,x20,color='blue',label='y=0')\n",
    "ax.scatter(x11,x21,color='green',label='y=1')\n",
    "ax.set_ylabel('x2')\n",
    "ax.set_xlabel('x1')\n",
    "ax.set_title('x1 vs x2')\n",
    "ax.legend(title='Index',loc='best')\n",
    "plt.show()\n"
   ]
  },
  {
   "cell_type": "code",
   "execution_count": 132,
   "metadata": {},
   "outputs": [],
   "source": [
    "#logistic regression algorithm implementation\n",
    "m = len(y)\n",
    "x0=np.ones(m) #x0 is always 1 in linear regression \n",
    "X=np.array([x0,x1,x2]).T # x is matrix of row x0,x1,x2\n",
    "B=np.zeros(3) #here B=[theta0,theta1,theta2]=[0, 0, 0]\n",
    "#hypothesis function:h(x)=b0 + b1x1 + b2x2 since two features are used i.e. x1 and x2\n",
    "alpha=0.0001 #alpha is learning rate"
   ]
  },
  {
   "cell_type": "code",
   "execution_count": 133,
   "metadata": {},
   "outputs": [],
   "source": [
    "def cost_function(y,H):\n",
    "    J1=-(y.T.dot(np.log(H)))\n",
    "    J2=(1-y).T.dot(np.log(1-h))\n",
    "    J=(J1-J2)/m\n",
    "    return J"
   ]
  },
  {
   "cell_type": "code",
   "execution_count": 134,
   "metadata": {},
   "outputs": [
    {
     "name": "stdout",
     "output_type": "stream",
     "text": [
      "0.3465735902799726\n"
     ]
    }
   ],
   "source": [
    "#calculating initial cost\n",
    "h=X.dot(B)\n",
    "H=1/(1+np.exp(-h))\n",
    "initial_cost=cost_function(y,H)  \n",
    "print(initial_cost)"
   ]
  },
  {
   "cell_type": "code",
   "execution_count": 135,
   "metadata": {},
   "outputs": [],
   "source": [
    "def gradi_desc(X,B,alpha,y,iteration):\n",
    "    cost_iter=np.zeros(iteration)\n",
    "    m=len(y)\n",
    "    for i in range(iteration):     \n",
    "        h=X.dot(B)\n",
    "        H=1/(1+np.exp(-h))\n",
    "        loss=H-y\n",
    "        gradient=X.T.dot(loss)/m\n",
    "        B=B-alpha*gradient\n",
    "        cost=cost_function(y,H)\n",
    "        cost_iter[i]=cost\n",
    "    return B,cost_iter    "
   ]
  },
  {
   "cell_type": "code",
   "execution_count": 136,
   "metadata": {},
   "outputs": [
    {
     "data": {
      "image/png": "[encoded data removed]",
      "text/plain": [
       "<Figure size 432x288 with 1 Axes>"
      ]
     },
     "metadata": {
      "needs_background": "light"
     },
     "output_type": "display_data"
    }
   ],
   "source": [
    "newB, cost_history = gradi_desc(X,B, alpha,y,3000000)\n",
    "x=np.arange(1,3000001)\n",
    "plt.plot(x,cost_history)\n",
    "plt.xlabel('iteration')\n",
    "plt.ylabel('cost function')\n",
    "plt.show()\n"
   ]
  },
  {
   "cell_type": "code",
   "execution_count": 137,
   "metadata": {},
   "outputs": [
    {
     "data": {
      "text/plain": [
       "array([ 2.62357581,  3.34288951, -4.34874572])"
      ]
     },
     "execution_count": 137,
     "metadata": {},
     "output_type": "execute_result"
    }
   ],
   "source": [
    "newB #value of theta0,theta1,theta2"
   ]
  },
  {
   "cell_type": "code",
   "execution_count": 138,
   "metadata": {},
   "outputs": [
    {
     "data": {
      "image/png": "[encoded data removed]",
      "text/plain": [
       "<Figure size 432x288 with 1 Axes>"
      ]
     },
     "metadata": {
      "needs_background": "light"
     },
     "output_type": "display_data"
    }
   ],
   "source": [
    "Ypred=1/(1+np.exp(-(X.dot(newB))))\n",
    "pred_data=np.array([x1,x2,Ypred])\n",
    "x11=x1[Ypred>=0.5]\n",
    "x21=x2[Ypred>=0.5]\n",
    "x10=x1[Ypred<0.5]\n",
    "x20=x2[Ypred<0.5]\n",
    "theta0=np.full(100,newB[0])\n",
    "theta1=np.full(100,newB[1])\n",
    "theta2=newB[2]\n",
    "x2=(-theta0-theta1*x1)*(1/theta2)\n",
    "fig=plt.figure()\n",
    "ax = fig.add_axes([0,0,1,1])\n",
    "ax.scatter(x10,x20,color='blue',label='y<0.5')\n",
    "ax.scatter(x11,x21,color='green',label='y>=0.5')\n",
    "ax.plot(x1,x2,color='red',label=\"classifier\")\n",
    "ax.set_ylabel('x2')\n",
    "ax.set_xlabel('x1')\n",
    "ax.set_title('x1 vs x2 Classified')\n",
    "ax.legend(title='Index',loc='best')\n",
    "plt.show()"
   ]
  },
  {
   "cell_type": "code",
   "execution_count": null,
   "metadata": {},
   "outputs": [],
   "source": [
    "\n"
   ]
  },
  {
   "cell_type": "code",
   "execution_count": null,
   "metadata": {},
   "outputs": [],
   "source": []
  },
  {
   "cell_type": "code",
   "execution_count": 68,
   "metadata": {},
   "outputs": [],
   "source": [
    "\n"
   ]
  },
  {
   "cell_type": "code",
   "execution_count": 69,
   "metadata": {},
   "outputs": [],
   "source": []
  },
  {
   "cell_type": "code",
   "execution_count": null,
   "metadata": {},
   "outputs": [],
   "source": []
  },
  {
   "cell_type": "code",
   "execution_count": null,
   "metadata": {},
   "outputs": [],
   "source": []
  }
 ],
 "metadata": {
  "kernelspec": {
   "display_name": "Python 3",
   "language": "python",
   "name": "python3"
  },
  "language_info": {
   "codemirror_mode": {
    "name": "ipython",
    "version": 3
   },
   "file_extension": ".py",
   "mimetype": "text/x-python",
   "name": "python",
   "nbconvert_exporter": "python",
   "pygments_lexer": "ipython3",
   "version": "3.7.4"
  }
 },
 "nbformat": 4,
 "nbformat_minor": 2
}
